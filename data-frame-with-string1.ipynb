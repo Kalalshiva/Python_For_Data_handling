{
 "cells": [
  {
   "cell_type": "code",
   "execution_count": 1,
   "id": "999b67df",
   "metadata": {
    "_cell_guid": "b1076dfc-b9ad-4769-8c92-a6c4dae69d19",
    "_uuid": "8f2839f25d086af736a60e9eeb907d3b93b6e0e5",
    "execution": {
     "iopub.execute_input": "2025-08-21T08:25:23.176493Z",
     "iopub.status.busy": "2025-08-21T08:25:23.176102Z",
     "iopub.status.idle": "2025-08-21T08:25:24.171064Z",
     "shell.execute_reply": "2025-08-21T08:25:24.169795Z"
    },
    "papermill": {
     "duration": 1.00036,
     "end_time": "2025-08-21T08:25:24.173139",
     "exception": false,
     "start_time": "2025-08-21T08:25:23.172779",
     "status": "completed"
    },
    "tags": []
   },
   "outputs": [],
   "source": [
    "import pandas as pd"
   ]
  },
  {
   "cell_type": "code",
   "execution_count": 2,
   "id": "9ec1b984",
   "metadata": {
    "execution": {
     "iopub.execute_input": "2025-08-21T08:25:24.178657Z",
     "iopub.status.busy": "2025-08-21T08:25:24.178107Z",
     "iopub.status.idle": "2025-08-21T08:25:24.223030Z",
     "shell.execute_reply": "2025-08-21T08:25:24.221868Z"
    },
    "papermill": {
     "duration": 0.049707,
     "end_time": "2025-08-21T08:25:24.225152",
     "exception": false,
     "start_time": "2025-08-21T08:25:24.175445",
     "status": "completed"
    },
    "tags": []
   },
   "outputs": [
    {
     "data": {
      "text/html": [
       "<div>\n",
       "<style scoped>\n",
       "    .dataframe tbody tr th:only-of-type {\n",
       "        vertical-align: middle;\n",
       "    }\n",
       "\n",
       "    .dataframe tbody tr th {\n",
       "        vertical-align: top;\n",
       "    }\n",
       "\n",
       "    .dataframe thead th {\n",
       "        text-align: right;\n",
       "    }\n",
       "</style>\n",
       "<table border=\"1\" class=\"dataframe\">\n",
       "  <thead>\n",
       "    <tr style=\"text-align: right;\">\n",
       "      <th></th>\n",
       "      <th>Unnamed: 0</th>\n",
       "      <th>diagnosis</th>\n",
       "      <th>path</th>\n",
       "      <th>Size</th>\n",
       "      <th>Mode</th>\n",
       "      <th>Hash</th>\n",
       "    </tr>\n",
       "  </thead>\n",
       "  <tbody>\n",
       "    <tr>\n",
       "      <th>0</th>\n",
       "      <td>1114</td>\n",
       "      <td>0</td>\n",
       "      <td>../input/train_images/a75bab2463d4.png</td>\n",
       "      <td>(2416, 1736)</td>\n",
       "      <td>RGB</td>\n",
       "      <td>808d0f3513f33f2d</td>\n",
       "    </tr>\n",
       "    <tr>\n",
       "      <th>1</th>\n",
       "      <td>833</td>\n",
       "      <td>0</td>\n",
       "      <td>../input/train_images/1632c4311fc9.png</td>\n",
       "      <td>(2416, 1736)</td>\n",
       "      <td>RGB</td>\n",
       "      <td>808d0f3513f33f2d</td>\n",
       "    </tr>\n",
       "    <tr>\n",
       "      <th>2</th>\n",
       "      <td>538</td>\n",
       "      <td>4</td>\n",
       "      <td>../input/train_images/6b00cb764237.png</td>\n",
       "      <td>(2416, 1736)</td>\n",
       "      <td>RGB</td>\n",
       "      <td>808d17355ee51fa5</td>\n",
       "    </tr>\n",
       "    <tr>\n",
       "      <th>3</th>\n",
       "      <td>3241</td>\n",
       "      <td>2</td>\n",
       "      <td>../input/train_images/64678182d8a8.png</td>\n",
       "      <td>(2416, 1736)</td>\n",
       "      <td>RGB</td>\n",
       "      <td>808d17355ee51fa5</td>\n",
       "    </tr>\n",
       "    <tr>\n",
       "      <th>4</th>\n",
       "      <td>1717</td>\n",
       "      <td>2</td>\n",
       "      <td>../input/train_images/8273fdb4405e.png</td>\n",
       "      <td>(2416, 1736)</td>\n",
       "      <td>RGB</td>\n",
       "      <td>808d17715f871ff0</td>\n",
       "    </tr>\n",
       "  </tbody>\n",
       "</table>\n",
       "</div>"
      ],
      "text/plain": [
       "   Unnamed: 0  diagnosis                                    path  \\\n",
       "0        1114          0  ../input/train_images/a75bab2463d4.png   \n",
       "1         833          0  ../input/train_images/1632c4311fc9.png   \n",
       "2         538          4  ../input/train_images/6b00cb764237.png   \n",
       "3        3241          2  ../input/train_images/64678182d8a8.png   \n",
       "4        1717          2  ../input/train_images/8273fdb4405e.png   \n",
       "\n",
       "           Size Mode              Hash  \n",
       "0  (2416, 1736)  RGB  808d0f3513f33f2d  \n",
       "1  (2416, 1736)  RGB  808d0f3513f33f2d  \n",
       "2  (2416, 1736)  RGB  808d17355ee51fa5  \n",
       "3  (2416, 1736)  RGB  808d17355ee51fa5  \n",
       "4  (2416, 1736)  RGB  808d17715f871ff0  "
      ]
     },
     "execution_count": 2,
     "metadata": {},
     "output_type": "execute_result"
    }
   ],
   "source": [
    "a=pd.read_csv(\"/kaggle/input/duplicated-list-csv-file/duplicated_info.csv\")\n",
    "a.head( )"
   ]
  }
 ],
 "metadata": {
  "kaggle": {
   "accelerator": "none",
   "dataSources": [
    {
     "sourceId": 16875756,
     "sourceType": "kernelVersion"
    }
   ],
   "dockerImageVersionId": 30886,
   "isGpuEnabled": false,
   "isInternetEnabled": true,
   "language": "python",
   "sourceType": "notebook"
  },
  "kernelspec": {
   "display_name": "Python 3",
   "language": "python",
   "name": "python3"
  },
  "language_info": {
   "codemirror_mode": {
    "name": "ipython",
    "version": 3
   },
   "file_extension": ".py",
   "mimetype": "text/x-python",
   "name": "python",
   "nbconvert_exporter": "python",
   "pygments_lexer": "ipython3",
   "version": "3.10.12"
  },
  "papermill": {
   "default_parameters": {},
   "duration": 5.103055,
   "end_time": "2025-08-21T08:25:24.847042",
   "environment_variables": {},
   "exception": null,
   "input_path": "__notebook__.ipynb",
   "output_path": "__notebook__.ipynb",
   "parameters": {},
   "start_time": "2025-08-21T08:25:19.743987",
   "version": "2.6.0"
  }
 },
 "nbformat": 4,
 "nbformat_minor": 5
}
