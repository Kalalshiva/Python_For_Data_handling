{
 "cells": [
  {
   "cell_type": "code",
   "execution_count": 1,
   "id": "7703da5d",
   "metadata": {
    "_cell_guid": "b1076dfc-b9ad-4769-8c92-a6c4dae69d19",
    "_uuid": "8f2839f25d086af736a60e9eeb907d3b93b6e0e5",
    "execution": {
     "iopub.execute_input": "2025-08-21T08:41:02.026695Z",
     "iopub.status.busy": "2025-08-21T08:41:02.026308Z",
     "iopub.status.idle": "2025-08-21T08:41:02.832411Z",
     "shell.execute_reply": "2025-08-21T08:41:02.831348Z"
    },
    "papermill": {
     "duration": 0.813942,
     "end_time": "2025-08-21T08:41:02.834415",
     "exception": false,
     "start_time": "2025-08-21T08:41:02.020473",
     "status": "completed"
    },
    "tags": []
   },
   "outputs": [],
   "source": [
    "import pandas as pd"
   ]
  },
  {
   "cell_type": "code",
   "execution_count": 2,
   "id": "d66d0cbc",
   "metadata": {
    "execution": {
     "iopub.execute_input": "2025-08-21T08:41:02.843100Z",
     "iopub.status.busy": "2025-08-21T08:41:02.842594Z",
     "iopub.status.idle": "2025-08-21T08:41:02.879947Z",
     "shell.execute_reply": "2025-08-21T08:41:02.878986Z"
    },
    "papermill": {
     "duration": 0.043412,
     "end_time": "2025-08-21T08:41:02.881697",
     "exception": false,
     "start_time": "2025-08-21T08:41:02.838285",
     "status": "completed"
    },
    "tags": []
   },
   "outputs": [
    {
     "data": {
      "text/html": [
       "<div>\n",
       "<style scoped>\n",
       "    .dataframe tbody tr th:only-of-type {\n",
       "        vertical-align: middle;\n",
       "    }\n",
       "\n",
       "    .dataframe tbody tr th {\n",
       "        vertical-align: top;\n",
       "    }\n",
       "\n",
       "    .dataframe thead th {\n",
       "        text-align: right;\n",
       "    }\n",
       "</style>\n",
       "<table border=\"1\" class=\"dataframe\">\n",
       "  <thead>\n",
       "    <tr style=\"text-align: right;\">\n",
       "      <th></th>\n",
       "      <th>Unnamed: 0</th>\n",
       "      <th>data</th>\n",
       "    </tr>\n",
       "  </thead>\n",
       "  <tbody>\n",
       "    <tr>\n",
       "      <th>0</th>\n",
       "      <td>0</td>\n",
       "      <td>0</td>\n",
       "    </tr>\n",
       "    <tr>\n",
       "      <th>1</th>\n",
       "      <td>1</td>\n",
       "      <td>1</td>\n",
       "    </tr>\n",
       "    <tr>\n",
       "      <th>2</th>\n",
       "      <td>2</td>\n",
       "      <td>2</td>\n",
       "    </tr>\n",
       "    <tr>\n",
       "      <th>3</th>\n",
       "      <td>3</td>\n",
       "      <td>3</td>\n",
       "    </tr>\n",
       "    <tr>\n",
       "      <th>4</th>\n",
       "      <td>4</td>\n",
       "      <td>4</td>\n",
       "    </tr>\n",
       "    <tr>\n",
       "      <th>...</th>\n",
       "      <td>...</td>\n",
       "      <td>...</td>\n",
       "    </tr>\n",
       "    <tr>\n",
       "      <th>995</th>\n",
       "      <td>995</td>\n",
       "      <td>995</td>\n",
       "    </tr>\n",
       "    <tr>\n",
       "      <th>996</th>\n",
       "      <td>996</td>\n",
       "      <td>996</td>\n",
       "    </tr>\n",
       "    <tr>\n",
       "      <th>997</th>\n",
       "      <td>997</td>\n",
       "      <td>997</td>\n",
       "    </tr>\n",
       "    <tr>\n",
       "      <th>998</th>\n",
       "      <td>998</td>\n",
       "      <td>998</td>\n",
       "    </tr>\n",
       "    <tr>\n",
       "      <th>999</th>\n",
       "      <td>999</td>\n",
       "      <td>999</td>\n",
       "    </tr>\n",
       "  </tbody>\n",
       "</table>\n",
       "<p>1000 rows × 2 columns</p>\n",
       "</div>"
      ],
      "text/plain": [
       "     Unnamed: 0  data\n",
       "0             0     0\n",
       "1             1     1\n",
       "2             2     2\n",
       "3             3     3\n",
       "4             4     4\n",
       "..          ...   ...\n",
       "995         995   995\n",
       "996         996   996\n",
       "997         997   997\n",
       "998         998   998\n",
       "999         999   999\n",
       "\n",
       "[1000 rows x 2 columns]"
      ]
     },
     "execution_count": 2,
     "metadata": {},
     "output_type": "execute_result"
    }
   ],
   "source": [
    "s=pd.read_csv(\"/kaggle/input/download-csv-file/submission.csv\")\n",
    "s"
   ]
  },
  {
   "cell_type": "code",
   "execution_count": 3,
   "id": "f6a27c8f",
   "metadata": {
    "execution": {
     "iopub.execute_input": "2025-08-21T08:41:02.890018Z",
     "iopub.status.busy": "2025-08-21T08:41:02.889706Z",
     "iopub.status.idle": "2025-08-21T08:41:02.906230Z",
     "shell.execute_reply": "2025-08-21T08:41:02.905277Z"
    },
    "papermill": {
     "duration": 0.022404,
     "end_time": "2025-08-21T08:41:02.907889",
     "exception": false,
     "start_time": "2025-08-21T08:41:02.885485",
     "status": "completed"
    },
    "tags": []
   },
   "outputs": [
    {
     "data": {
      "text/html": [
       "<div>\n",
       "<style scoped>\n",
       "    .dataframe tbody tr th:only-of-type {\n",
       "        vertical-align: middle;\n",
       "    }\n",
       "\n",
       "    .dataframe tbody tr th {\n",
       "        vertical-align: top;\n",
       "    }\n",
       "\n",
       "    .dataframe thead th {\n",
       "        text-align: right;\n",
       "    }\n",
       "</style>\n",
       "<table border=\"1\" class=\"dataframe\">\n",
       "  <thead>\n",
       "    <tr style=\"text-align: right;\">\n",
       "      <th></th>\n",
       "      <th>Unnamed: 0</th>\n",
       "      <th>data</th>\n",
       "    </tr>\n",
       "  </thead>\n",
       "  <tbody>\n",
       "    <tr>\n",
       "      <th>0</th>\n",
       "      <td>0</td>\n",
       "      <td>0</td>\n",
       "    </tr>\n",
       "    <tr>\n",
       "      <th>1</th>\n",
       "      <td>1</td>\n",
       "      <td>1</td>\n",
       "    </tr>\n",
       "    <tr>\n",
       "      <th>2</th>\n",
       "      <td>2</td>\n",
       "      <td>2</td>\n",
       "    </tr>\n",
       "    <tr>\n",
       "      <th>3</th>\n",
       "      <td>3</td>\n",
       "      <td>3</td>\n",
       "    </tr>\n",
       "    <tr>\n",
       "      <th>4</th>\n",
       "      <td>4</td>\n",
       "      <td>4</td>\n",
       "    </tr>\n",
       "    <tr>\n",
       "      <th>...</th>\n",
       "      <td>...</td>\n",
       "      <td>...</td>\n",
       "    </tr>\n",
       "    <tr>\n",
       "      <th>995</th>\n",
       "      <td>995</td>\n",
       "      <td>995</td>\n",
       "    </tr>\n",
       "    <tr>\n",
       "      <th>996</th>\n",
       "      <td>996</td>\n",
       "      <td>996</td>\n",
       "    </tr>\n",
       "    <tr>\n",
       "      <th>997</th>\n",
       "      <td>997</td>\n",
       "      <td>997</td>\n",
       "    </tr>\n",
       "    <tr>\n",
       "      <th>998</th>\n",
       "      <td>998</td>\n",
       "      <td>998</td>\n",
       "    </tr>\n",
       "    <tr>\n",
       "      <th>999</th>\n",
       "      <td>999</td>\n",
       "      <td>999</td>\n",
       "    </tr>\n",
       "  </tbody>\n",
       "</table>\n",
       "<p>1000 rows × 2 columns</p>\n",
       "</div>"
      ],
      "text/plain": [
       "     Unnamed: 0  data\n",
       "0             0     0\n",
       "1             1     1\n",
       "2             2     2\n",
       "3             3     3\n",
       "4             4     4\n",
       "..          ...   ...\n",
       "995         995   995\n",
       "996         996   996\n",
       "997         997   997\n",
       "998         998   998\n",
       "999         999   999\n",
       "\n",
       "[1000 rows x 2 columns]"
      ]
     },
     "execution_count": 3,
     "metadata": {},
     "output_type": "execute_result"
    }
   ],
   "source": [
    "s.drop_duplicates()"
   ]
  },
  {
   "cell_type": "markdown",
   "id": "875c1c59",
   "metadata": {
    "papermill": {
     "duration": 0.003428,
     "end_time": "2025-08-21T08:41:02.915131",
     "exception": false,
     "start_time": "2025-08-21T08:41:02.911703",
     "status": "completed"
    },
    "tags": []
   },
   "source": [
    "**handling null values**"
   ]
  },
  {
   "cell_type": "code",
   "execution_count": 4,
   "id": "b8836a04",
   "metadata": {
    "execution": {
     "iopub.execute_input": "2025-08-21T08:41:02.923633Z",
     "iopub.status.busy": "2025-08-21T08:41:02.923246Z",
     "iopub.status.idle": "2025-08-21T08:41:02.931773Z",
     "shell.execute_reply": "2025-08-21T08:41:02.930828Z"
    },
    "papermill": {
     "duration": 0.014503,
     "end_time": "2025-08-21T08:41:02.933324",
     "exception": false,
     "start_time": "2025-08-21T08:41:02.918821",
     "status": "completed"
    },
    "tags": []
   },
   "outputs": [
    {
     "data": {
      "text/plain": [
       "hyd        12.0\n",
       "vizag      34.0\n",
       "mumbai     56.0\n",
       "pune       23.0\n",
       "chennai     NaN\n",
       "dtype: float64"
      ]
     },
     "execution_count": 4,
     "metadata": {},
     "output_type": "execute_result"
    }
   ],
   "source": [
    "a=pd.Series([12,34,56,23,None],index=['hyd','vizag','mumbai','pune','chennai'])\n",
    "a"
   ]
  },
  {
   "cell_type": "markdown",
   "id": "186ae80e",
   "metadata": {
    "papermill": {
     "duration": 0.003472,
     "end_time": "2025-08-21T08:41:02.940760",
     "exception": false,
     "start_time": "2025-08-21T08:41:02.937288",
     "status": "completed"
    },
    "tags": []
   },
   "source": [
    "**Finding if there is a NULL record**"
   ]
  },
  {
   "cell_type": "code",
   "execution_count": 5,
   "id": "27f0ef1a",
   "metadata": {
    "execution": {
     "iopub.execute_input": "2025-08-21T08:41:02.949459Z",
     "iopub.status.busy": "2025-08-21T08:41:02.949128Z",
     "iopub.status.idle": "2025-08-21T08:41:02.955402Z",
     "shell.execute_reply": "2025-08-21T08:41:02.954426Z"
    },
    "papermill": {
     "duration": 0.012451,
     "end_time": "2025-08-21T08:41:02.957077",
     "exception": false,
     "start_time": "2025-08-21T08:41:02.944626",
     "status": "completed"
    },
    "tags": []
   },
   "outputs": [
    {
     "data": {
      "text/plain": [
       "hyd        False\n",
       "vizag      False\n",
       "mumbai     False\n",
       "pune       False\n",
       "chennai     True\n",
       "dtype: bool"
      ]
     },
     "execution_count": 5,
     "metadata": {},
     "output_type": "execute_result"
    }
   ],
   "source": [
    "a.isna()"
   ]
  },
  {
   "cell_type": "code",
   "execution_count": 6,
   "id": "36110b46",
   "metadata": {
    "execution": {
     "iopub.execute_input": "2025-08-21T08:41:02.966037Z",
     "iopub.status.busy": "2025-08-21T08:41:02.965710Z",
     "iopub.status.idle": "2025-08-21T08:41:02.972215Z",
     "shell.execute_reply": "2025-08-21T08:41:02.971416Z"
    },
    "papermill": {
     "duration": 0.012708,
     "end_time": "2025-08-21T08:41:02.973725",
     "exception": false,
     "start_time": "2025-08-21T08:41:02.961017",
     "status": "completed"
    },
    "tags": []
   },
   "outputs": [
    {
     "data": {
      "text/plain": [
       "chennai   NaN\n",
       "dtype: float64"
      ]
     },
     "execution_count": 6,
     "metadata": {},
     "output_type": "execute_result"
    }
   ],
   "source": [
    "mask=a.isna()\n",
    "a[mask]"
   ]
  },
  {
   "cell_type": "code",
   "execution_count": 7,
   "id": "29fdaa89",
   "metadata": {
    "execution": {
     "iopub.execute_input": "2025-08-21T08:41:02.982793Z",
     "iopub.status.busy": "2025-08-21T08:41:02.982439Z",
     "iopub.status.idle": "2025-08-21T08:41:02.988658Z",
     "shell.execute_reply": "2025-08-21T08:41:02.987833Z"
    },
    "papermill": {
     "duration": 0.012267,
     "end_time": "2025-08-21T08:41:02.990087",
     "exception": false,
     "start_time": "2025-08-21T08:41:02.977820",
     "status": "completed"
    },
    "tags": []
   },
   "outputs": [
    {
     "data": {
      "text/plain": [
       "hyd       12.0\n",
       "vizag     34.0\n",
       "mumbai    56.0\n",
       "pune      23.0\n",
       "dtype: float64"
      ]
     },
     "execution_count": 7,
     "metadata": {},
     "output_type": "execute_result"
    }
   ],
   "source": [
    "a.dropna()"
   ]
  },
  {
   "cell_type": "code",
   "execution_count": 8,
   "id": "d1a315f8",
   "metadata": {
    "execution": {
     "iopub.execute_input": "2025-08-21T08:41:02.999102Z",
     "iopub.status.busy": "2025-08-21T08:41:02.998791Z",
     "iopub.status.idle": "2025-08-21T08:41:03.005549Z",
     "shell.execute_reply": "2025-08-21T08:41:03.004609Z"
    },
    "papermill": {
     "duration": 0.013244,
     "end_time": "2025-08-21T08:41:03.007402",
     "exception": false,
     "start_time": "2025-08-21T08:41:02.994158",
     "status": "completed"
    },
    "tags": []
   },
   "outputs": [
    {
     "data": {
      "text/plain": [
       "hyd        12.0\n",
       "vizag      34.0\n",
       "mumbai     56.0\n",
       "pune       23.0\n",
       "chennai     3.0\n",
       "dtype: float64"
      ]
     },
     "execution_count": 8,
     "metadata": {},
     "output_type": "execute_result"
    }
   ],
   "source": [
    "a.fillna(3)"
   ]
  },
  {
   "cell_type": "code",
   "execution_count": 9,
   "id": "d2092ceb",
   "metadata": {
    "execution": {
     "iopub.execute_input": "2025-08-21T08:41:03.017124Z",
     "iopub.status.busy": "2025-08-21T08:41:03.016776Z",
     "iopub.status.idle": "2025-08-21T08:41:03.026139Z",
     "shell.execute_reply": "2025-08-21T08:41:03.025140Z"
    },
    "papermill": {
     "duration": 0.015831,
     "end_time": "2025-08-21T08:41:03.027663",
     "exception": false,
     "start_time": "2025-08-21T08:41:03.011832",
     "status": "completed"
    },
    "tags": []
   },
   "outputs": [
    {
     "data": {
      "text/html": [
       "<div>\n",
       "<style scoped>\n",
       "    .dataframe tbody tr th:only-of-type {\n",
       "        vertical-align: middle;\n",
       "    }\n",
       "\n",
       "    .dataframe tbody tr th {\n",
       "        vertical-align: top;\n",
       "    }\n",
       "\n",
       "    .dataframe thead th {\n",
       "        text-align: right;\n",
       "    }\n",
       "</style>\n",
       "<table border=\"1\" class=\"dataframe\">\n",
       "  <thead>\n",
       "    <tr style=\"text-align: right;\">\n",
       "      <th></th>\n",
       "      <th>Unnamed: 0</th>\n",
       "      <th>data</th>\n",
       "    </tr>\n",
       "  </thead>\n",
       "  <tbody>\n",
       "    <tr>\n",
       "      <th>0</th>\n",
       "      <td>0</td>\n",
       "      <td>0</td>\n",
       "    </tr>\n",
       "    <tr>\n",
       "      <th>1</th>\n",
       "      <td>1</td>\n",
       "      <td>1</td>\n",
       "    </tr>\n",
       "    <tr>\n",
       "      <th>2</th>\n",
       "      <td>2</td>\n",
       "      <td>2</td>\n",
       "    </tr>\n",
       "    <tr>\n",
       "      <th>3</th>\n",
       "      <td>3</td>\n",
       "      <td>3</td>\n",
       "    </tr>\n",
       "    <tr>\n",
       "      <th>4</th>\n",
       "      <td>4</td>\n",
       "      <td>4</td>\n",
       "    </tr>\n",
       "    <tr>\n",
       "      <th>...</th>\n",
       "      <td>...</td>\n",
       "      <td>...</td>\n",
       "    </tr>\n",
       "    <tr>\n",
       "      <th>995</th>\n",
       "      <td>995</td>\n",
       "      <td>995</td>\n",
       "    </tr>\n",
       "    <tr>\n",
       "      <th>996</th>\n",
       "      <td>996</td>\n",
       "      <td>996</td>\n",
       "    </tr>\n",
       "    <tr>\n",
       "      <th>997</th>\n",
       "      <td>997</td>\n",
       "      <td>997</td>\n",
       "    </tr>\n",
       "    <tr>\n",
       "      <th>998</th>\n",
       "      <td>998</td>\n",
       "      <td>998</td>\n",
       "    </tr>\n",
       "    <tr>\n",
       "      <th>999</th>\n",
       "      <td>999</td>\n",
       "      <td>999</td>\n",
       "    </tr>\n",
       "  </tbody>\n",
       "</table>\n",
       "<p>1000 rows × 2 columns</p>\n",
       "</div>"
      ],
      "text/plain": [
       "     Unnamed: 0  data\n",
       "0             0     0\n",
       "1             1     1\n",
       "2             2     2\n",
       "3             3     3\n",
       "4             4     4\n",
       "..          ...   ...\n",
       "995         995   995\n",
       "996         996   996\n",
       "997         997   997\n",
       "998         998   998\n",
       "999         999   999\n",
       "\n",
       "[1000 rows x 2 columns]"
      ]
     },
     "execution_count": 9,
     "metadata": {},
     "output_type": "execute_result"
    }
   ],
   "source": [
    "s"
   ]
  },
  {
   "cell_type": "code",
   "execution_count": 10,
   "id": "257f7cba",
   "metadata": {
    "execution": {
     "iopub.execute_input": "2025-08-21T08:41:03.037343Z",
     "iopub.status.busy": "2025-08-21T08:41:03.037032Z",
     "iopub.status.idle": "2025-08-21T08:41:03.054042Z",
     "shell.execute_reply": "2025-08-21T08:41:03.053078Z"
    },
    "papermill": {
     "duration": 0.023599,
     "end_time": "2025-08-21T08:41:03.055676",
     "exception": false,
     "start_time": "2025-08-21T08:41:03.032077",
     "status": "completed"
    },
    "tags": []
   },
   "outputs": [
    {
     "data": {
      "text/html": [
       "<div>\n",
       "<style scoped>\n",
       "    .dataframe tbody tr th:only-of-type {\n",
       "        vertical-align: middle;\n",
       "    }\n",
       "\n",
       "    .dataframe tbody tr th {\n",
       "        vertical-align: top;\n",
       "    }\n",
       "\n",
       "    .dataframe thead th {\n",
       "        text-align: right;\n",
       "    }\n",
       "</style>\n",
       "<table border=\"1\" class=\"dataframe\">\n",
       "  <thead>\n",
       "    <tr style=\"text-align: right;\">\n",
       "      <th></th>\n",
       "      <th>Unnamed: 0</th>\n",
       "      <th>data</th>\n",
       "    </tr>\n",
       "  </thead>\n",
       "  <tbody>\n",
       "    <tr>\n",
       "      <th>count</th>\n",
       "      <td>1000.000000</td>\n",
       "      <td>1000.000000</td>\n",
       "    </tr>\n",
       "    <tr>\n",
       "      <th>mean</th>\n",
       "      <td>499.500000</td>\n",
       "      <td>499.500000</td>\n",
       "    </tr>\n",
       "    <tr>\n",
       "      <th>std</th>\n",
       "      <td>288.819436</td>\n",
       "      <td>288.819436</td>\n",
       "    </tr>\n",
       "    <tr>\n",
       "      <th>min</th>\n",
       "      <td>0.000000</td>\n",
       "      <td>0.000000</td>\n",
       "    </tr>\n",
       "    <tr>\n",
       "      <th>25%</th>\n",
       "      <td>249.750000</td>\n",
       "      <td>249.750000</td>\n",
       "    </tr>\n",
       "    <tr>\n",
       "      <th>50%</th>\n",
       "      <td>499.500000</td>\n",
       "      <td>499.500000</td>\n",
       "    </tr>\n",
       "    <tr>\n",
       "      <th>75%</th>\n",
       "      <td>749.250000</td>\n",
       "      <td>749.250000</td>\n",
       "    </tr>\n",
       "    <tr>\n",
       "      <th>max</th>\n",
       "      <td>999.000000</td>\n",
       "      <td>999.000000</td>\n",
       "    </tr>\n",
       "  </tbody>\n",
       "</table>\n",
       "</div>"
      ],
      "text/plain": [
       "        Unnamed: 0         data\n",
       "count  1000.000000  1000.000000\n",
       "mean    499.500000   499.500000\n",
       "std     288.819436   288.819436\n",
       "min       0.000000     0.000000\n",
       "25%     249.750000   249.750000\n",
       "50%     499.500000   499.500000\n",
       "75%     749.250000   749.250000\n",
       "max     999.000000   999.000000"
      ]
     },
     "execution_count": 10,
     "metadata": {},
     "output_type": "execute_result"
    }
   ],
   "source": [
    "s.describe()"
   ]
  },
  {
   "cell_type": "code",
   "execution_count": null,
   "id": "ecad229a",
   "metadata": {
    "execution": {
     "iopub.execute_input": "2025-01-02T18:44:53.449080Z",
     "iopub.status.busy": "2025-01-02T18:44:53.448672Z",
     "iopub.status.idle": "2025-01-02T18:44:53.461463Z",
     "shell.execute_reply": "2025-01-02T18:44:53.460196Z",
     "shell.execute_reply.started": "2025-01-02T18:44:53.449008Z"
    },
    "papermill": {
     "duration": 0.004201,
     "end_time": "2025-08-21T08:41:03.065016",
     "exception": false,
     "start_time": "2025-08-21T08:41:03.060815",
     "status": "completed"
    },
    "tags": []
   },
   "outputs": [],
   "source": []
  },
  {
   "cell_type": "code",
   "execution_count": 11,
   "id": "0d5678f8",
   "metadata": {
    "execution": {
     "iopub.execute_input": "2025-08-21T08:41:03.075092Z",
     "iopub.status.busy": "2025-08-21T08:41:03.074733Z",
     "iopub.status.idle": "2025-08-21T08:41:03.088092Z",
     "shell.execute_reply": "2025-08-21T08:41:03.087170Z"
    },
    "papermill": {
     "duration": 0.02024,
     "end_time": "2025-08-21T08:41:03.089655",
     "exception": false,
     "start_time": "2025-08-21T08:41:03.069415",
     "status": "completed"
    },
    "tags": []
   },
   "outputs": [
    {
     "data": {
      "text/html": [
       "<div>\n",
       "<style scoped>\n",
       "    .dataframe tbody tr th:only-of-type {\n",
       "        vertical-align: middle;\n",
       "    }\n",
       "\n",
       "    .dataframe tbody tr th {\n",
       "        vertical-align: top;\n",
       "    }\n",
       "\n",
       "    .dataframe thead th {\n",
       "        text-align: right;\n",
       "    }\n",
       "</style>\n",
       "<table border=\"1\" class=\"dataframe\">\n",
       "  <thead>\n",
       "    <tr style=\"text-align: right;\">\n",
       "      <th></th>\n",
       "      <th>Unnamed: 0</th>\n",
       "      <th>data</th>\n",
       "    </tr>\n",
       "  </thead>\n",
       "  <tbody>\n",
       "    <tr>\n",
       "      <th>0</th>\n",
       "      <td>NaN</td>\n",
       "      <td>NaN</td>\n",
       "    </tr>\n",
       "    <tr>\n",
       "      <th>1</th>\n",
       "      <td>NaN</td>\n",
       "      <td>NaN</td>\n",
       "    </tr>\n",
       "    <tr>\n",
       "      <th>2</th>\n",
       "      <td>NaN</td>\n",
       "      <td>NaN</td>\n",
       "    </tr>\n",
       "    <tr>\n",
       "      <th>3</th>\n",
       "      <td>NaN</td>\n",
       "      <td>NaN</td>\n",
       "    </tr>\n",
       "    <tr>\n",
       "      <th>4</th>\n",
       "      <td>NaN</td>\n",
       "      <td>NaN</td>\n",
       "    </tr>\n",
       "    <tr>\n",
       "      <th>...</th>\n",
       "      <td>...</td>\n",
       "      <td>...</td>\n",
       "    </tr>\n",
       "    <tr>\n",
       "      <th>995</th>\n",
       "      <td>NaN</td>\n",
       "      <td>NaN</td>\n",
       "    </tr>\n",
       "    <tr>\n",
       "      <th>996</th>\n",
       "      <td>NaN</td>\n",
       "      <td>NaN</td>\n",
       "    </tr>\n",
       "    <tr>\n",
       "      <th>997</th>\n",
       "      <td>NaN</td>\n",
       "      <td>NaN</td>\n",
       "    </tr>\n",
       "    <tr>\n",
       "      <th>998</th>\n",
       "      <td>NaN</td>\n",
       "      <td>NaN</td>\n",
       "    </tr>\n",
       "    <tr>\n",
       "      <th>999</th>\n",
       "      <td>NaN</td>\n",
       "      <td>NaN</td>\n",
       "    </tr>\n",
       "  </tbody>\n",
       "</table>\n",
       "<p>1000 rows × 2 columns</p>\n",
       "</div>"
      ],
      "text/plain": [
       "     Unnamed: 0  data\n",
       "0           NaN   NaN\n",
       "1           NaN   NaN\n",
       "2           NaN   NaN\n",
       "3           NaN   NaN\n",
       "4           NaN   NaN\n",
       "..          ...   ...\n",
       "995         NaN   NaN\n",
       "996         NaN   NaN\n",
       "997         NaN   NaN\n",
       "998         NaN   NaN\n",
       "999         NaN   NaN\n",
       "\n",
       "[1000 rows x 2 columns]"
      ]
     },
     "execution_count": 11,
     "metadata": {},
     "output_type": "execute_result"
    }
   ],
   "source": [
    "mask=s.isna()\n",
    "s[mask]"
   ]
  }
 ],
 "metadata": {
  "kaggle": {
   "accelerator": "none",
   "dataSources": [
    {
     "sourceId": 11715253,
     "sourceType": "kernelVersion"
    }
   ],
   "dockerImageVersionId": 30822,
   "isGpuEnabled": false,
   "isInternetEnabled": true,
   "language": "python",
   "sourceType": "notebook"
  },
  "kernelspec": {
   "display_name": "Python 3",
   "language": "python",
   "name": "python3"
  },
  "language_info": {
   "codemirror_mode": {
    "name": "ipython",
    "version": 3
   },
   "file_extension": ".py",
   "mimetype": "text/x-python",
   "name": "python",
   "nbconvert_exporter": "python",
   "pygments_lexer": "ipython3",
   "version": "3.10.12"
  },
  "papermill": {
   "default_parameters": {},
   "duration": 4.353573,
   "end_time": "2025-08-21T08:41:03.612282",
   "environment_variables": {},
   "exception": null,
   "input_path": "__notebook__.ipynb",
   "output_path": "__notebook__.ipynb",
   "parameters": {},
   "start_time": "2025-08-21T08:40:59.258709",
   "version": "2.6.0"
  }
 },
 "nbformat": 4,
 "nbformat_minor": 5
}
